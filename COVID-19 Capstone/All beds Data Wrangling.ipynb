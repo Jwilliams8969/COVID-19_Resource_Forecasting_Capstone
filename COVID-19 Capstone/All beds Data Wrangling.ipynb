{
 "cells": [
  {
   "cell_type": "markdown",
   "metadata": {},
   "source": [
    "# COVID BEDS"
   ]
  },
  {
   "cell_type": "code",
   "execution_count": 76,
   "metadata": {},
   "outputs": [],
   "source": [
    "# Importing the libraries\n",
    "import numpy as np\n",
    "import pandas as pd\n",
    "import warnings\n",
    "warnings.filterwarnings(\"ignore\")"
   ]
  },
  {
   "cell_type": "code",
   "execution_count": 77,
   "metadata": {},
   "outputs": [
    {
     "name": "stdout",
     "output_type": "stream",
     "text": [
      "   V1 location_name        date  allbed_mean  allbed_lower  allbed_upper  \\\n",
      "0   1       Abruzzo  2020-01-03          0.0           0.0           0.0   \n",
      "1   2       Abruzzo  2020-01-04          0.0           0.0           0.0   \n",
      "2   3       Abruzzo  2020-01-05          0.0           0.0           0.0   \n",
      "3   4       Abruzzo  2020-01-06          0.0           0.0           0.0   \n",
      "4   5       Abruzzo  2020-01-07          0.0           0.0           0.0   \n",
      "\n",
      "   ICUbed_mean  ICUbed_lower  ICUbed_upper  InvVen_mean  ...  newICU_upper  \\\n",
      "0          0.0           0.0           0.0          0.0  ...           0.0   \n",
      "1          0.0           0.0           0.0          0.0  ...           0.0   \n",
      "2          0.0           0.0           0.0          0.0  ...           0.0   \n",
      "3          0.0           0.0           0.0          0.0  ...           0.0   \n",
      "4          0.0           0.0           0.0          0.0  ...           0.0   \n",
      "\n",
      "   totdea_mean  totdea_lower  totdea_upper  bedover_mean  bedover_lower  \\\n",
      "0          0.0           0.0           0.0           0.0            0.0   \n",
      "1          0.0           0.0           0.0           0.0            0.0   \n",
      "2          0.0           0.0           0.0           0.0            0.0   \n",
      "3          0.0           0.0           0.0           0.0            0.0   \n",
      "4          0.0           0.0           0.0           0.0            0.0   \n",
      "\n",
      "   bedover_upper  icuover_mean  icuover_lower  icuover_upper  \n",
      "0            0.0           0.0            0.0            0.0  \n",
      "1            0.0           0.0            0.0            0.0  \n",
      "2            0.0           0.0            0.0            0.0  \n",
      "3            0.0           0.0            0.0            0.0  \n",
      "4            0.0           0.0            0.0            0.0  \n",
      "\n",
      "[5 rows x 30 columns]\n",
      "\n",
      " Data Types:\n",
      "V1                 int64\n",
      "location_name     object\n",
      "date              object\n",
      "allbed_mean      float64\n",
      "allbed_lower     float64\n",
      "allbed_upper     float64\n",
      "ICUbed_mean      float64\n",
      "ICUbed_lower     float64\n",
      "ICUbed_upper     float64\n",
      "InvVen_mean      float64\n",
      "InvVen_lower     float64\n",
      "InvVen_upper     float64\n",
      "deaths_mean      float64\n",
      "deaths_lower     float64\n",
      "deaths_upper     float64\n",
      "admis_mean       float64\n",
      "admis_lower      float64\n",
      "admis_upper      float64\n",
      "newICU_mean      float64\n",
      "newICU_lower     float64\n",
      "newICU_upper     float64\n",
      "totdea_mean      float64\n",
      "totdea_lower     float64\n",
      "totdea_upper     float64\n",
      "bedover_mean     float64\n",
      "bedover_lower    float64\n",
      "bedover_upper    float64\n",
      "icuover_mean     float64\n",
      "icuover_lower    float64\n",
      "icuover_upper    float64\n",
      "dtype: object\n"
     ]
    }
   ],
   "source": [
    "# Loading data\n",
    "data = pd.read_csv('Hospitalization_all_locs.csv')\n",
    "\n",
    "# Printing first five rows and data type of each column\n",
    "print (data.head())\n",
    "print ('\\n Data Types:')\n",
    "print (data.dtypes)"
   ]
  },
  {
   "cell_type": "markdown",
   "metadata": {},
   "source": [
    "# Data Wrangling"
   ]
  },
  {
   "cell_type": "markdown",
   "metadata": {},
   "source": [
    "* We're grouping by date and applying sum because we have data on states, and all the mean points corresponding to states add up to resemble those for countries. \n",
    "* We're also eliminating all rows that have zeroes in mean, lower bound, and upper bound columns"
   ]
  },
  {
   "cell_type": "code",
   "execution_count": 78,
   "metadata": {},
   "outputs": [],
   "source": [
    "data = data[['date', 'allbed_mean','allbed_lower', 'allbed_upper']].groupby(['date']).sum().reset_index()\n",
    "data = data[(data['allbed_mean']!=0) & (data['allbed_lower']!=0) & (data['allbed_upper']!=0)]"
   ]
  },
  {
   "cell_type": "code",
   "execution_count": 79,
   "metadata": {},
   "outputs": [
    {
     "data": {
      "text/html": [
       "<div>\n",
       "<style scoped>\n",
       "    .dataframe tbody tr th:only-of-type {\n",
       "        vertical-align: middle;\n",
       "    }\n",
       "\n",
       "    .dataframe tbody tr th {\n",
       "        vertical-align: top;\n",
       "    }\n",
       "\n",
       "    .dataframe thead th {\n",
       "        text-align: right;\n",
       "    }\n",
       "</style>\n",
       "<table border=\"1\" class=\"dataframe\">\n",
       "  <thead>\n",
       "    <tr style=\"text-align: right;\">\n",
       "      <th></th>\n",
       "      <th>date</th>\n",
       "      <th>allbed_mean</th>\n",
       "    </tr>\n",
       "  </thead>\n",
       "  <tbody>\n",
       "    <tr>\n",
       "      <td>47</td>\n",
       "      <td>2020-02-19</td>\n",
       "      <td>57.084621</td>\n",
       "    </tr>\n",
       "    <tr>\n",
       "      <td>48</td>\n",
       "      <td>2020-02-20</td>\n",
       "      <td>82.560621</td>\n",
       "    </tr>\n",
       "    <tr>\n",
       "      <td>49</td>\n",
       "      <td>2020-02-21</td>\n",
       "      <td>114.939195</td>\n",
       "    </tr>\n",
       "    <tr>\n",
       "      <td>50</td>\n",
       "      <td>2020-02-22</td>\n",
       "      <td>170.649595</td>\n",
       "    </tr>\n",
       "    <tr>\n",
       "      <td>51</td>\n",
       "      <td>2020-02-23</td>\n",
       "      <td>219.889829</td>\n",
       "    </tr>\n",
       "  </tbody>\n",
       "</table>\n",
       "</div>"
      ],
      "text/plain": [
       "          date  allbed_mean\n",
       "47  2020-02-19    57.084621\n",
       "48  2020-02-20    82.560621\n",
       "49  2020-02-21   114.939195\n",
       "50  2020-02-22   170.649595\n",
       "51  2020-02-23   219.889829"
      ]
     },
     "execution_count": 79,
     "metadata": {},
     "output_type": "execute_result"
    }
   ],
   "source": [
    "# Fetching only columns of interest\n",
    "allBedData = data[['date', 'allbed_mean']]\n",
    "allBedData.head()"
   ]
  },
  {
   "cell_type": "markdown",
   "metadata": {},
   "source": [
    "### Datetime conversion"
   ]
  },
  {
   "cell_type": "markdown",
   "metadata": {},
   "source": [
    "Since date column is having object data type, let's resolve that."
   ]
  },
  {
   "cell_type": "code",
   "execution_count": 80,
   "metadata": {},
   "outputs": [],
   "source": [
    "allBedData['date'] = pd.to_datetime(allBedData['date'])"
   ]
  },
  {
   "cell_type": "markdown",
   "metadata": {},
   "source": [
    "Now, since there are multiple values corresponding to one date because we removed location column from this data, we need to group these dates and find out the final COVID Beds value corresponding to each date."
   ]
  },
  {
   "cell_type": "markdown",
   "metadata": {},
   "source": [
    "### Grouping the column by date"
   ]
  },
  {
   "cell_type": "code",
   "execution_count": 81,
   "metadata": {},
   "outputs": [
    {
     "data": {
      "text/html": [
       "<div>\n",
       "<style scoped>\n",
       "    .dataframe tbody tr th:only-of-type {\n",
       "        vertical-align: middle;\n",
       "    }\n",
       "\n",
       "    .dataframe tbody tr th {\n",
       "        vertical-align: top;\n",
       "    }\n",
       "\n",
       "    .dataframe thead th {\n",
       "        text-align: right;\n",
       "    }\n",
       "</style>\n",
       "<table border=\"1\" class=\"dataframe\">\n",
       "  <thead>\n",
       "    <tr style=\"text-align: right;\">\n",
       "      <th></th>\n",
       "      <th>date</th>\n",
       "      <th>allbed_mean</th>\n",
       "    </tr>\n",
       "  </thead>\n",
       "  <tbody>\n",
       "    <tr>\n",
       "      <td>50</td>\n",
       "      <td>2020-04-09</td>\n",
       "      <td>278047.094161</td>\n",
       "    </tr>\n",
       "    <tr>\n",
       "      <td>51</td>\n",
       "      <td>2020-04-10</td>\n",
       "      <td>283285.083066</td>\n",
       "    </tr>\n",
       "    <tr>\n",
       "      <td>52</td>\n",
       "      <td>2020-04-11</td>\n",
       "      <td>286242.998166</td>\n",
       "    </tr>\n",
       "    <tr>\n",
       "      <td>53</td>\n",
       "      <td>2020-04-12</td>\n",
       "      <td>287638.386094</td>\n",
       "    </tr>\n",
       "    <tr>\n",
       "      <td>54</td>\n",
       "      <td>2020-04-13</td>\n",
       "      <td>288537.403989</td>\n",
       "    </tr>\n",
       "    <tr>\n",
       "      <td>55</td>\n",
       "      <td>2020-04-14</td>\n",
       "      <td>293961.921727</td>\n",
       "    </tr>\n",
       "    <tr>\n",
       "      <td>56</td>\n",
       "      <td>2020-04-15</td>\n",
       "      <td>289404.989199</td>\n",
       "    </tr>\n",
       "    <tr>\n",
       "      <td>57</td>\n",
       "      <td>2020-04-16</td>\n",
       "      <td>283260.557846</td>\n",
       "    </tr>\n",
       "    <tr>\n",
       "      <td>58</td>\n",
       "      <td>2020-04-17</td>\n",
       "      <td>274905.182936</td>\n",
       "    </tr>\n",
       "    <tr>\n",
       "      <td>59</td>\n",
       "      <td>2020-04-18</td>\n",
       "      <td>266657.454055</td>\n",
       "    </tr>\n",
       "    <tr>\n",
       "      <td>60</td>\n",
       "      <td>2020-04-19</td>\n",
       "      <td>258563.032697</td>\n",
       "    </tr>\n",
       "    <tr>\n",
       "      <td>61</td>\n",
       "      <td>2020-04-20</td>\n",
       "      <td>250333.286406</td>\n",
       "    </tr>\n",
       "    <tr>\n",
       "      <td>62</td>\n",
       "      <td>2020-04-21</td>\n",
       "      <td>241787.631463</td>\n",
       "    </tr>\n",
       "    <tr>\n",
       "      <td>63</td>\n",
       "      <td>2020-04-22</td>\n",
       "      <td>233250.185832</td>\n",
       "    </tr>\n",
       "    <tr>\n",
       "      <td>64</td>\n",
       "      <td>2020-04-23</td>\n",
       "      <td>218926.040928</td>\n",
       "    </tr>\n",
       "    <tr>\n",
       "      <td>65</td>\n",
       "      <td>2020-04-24</td>\n",
       "      <td>204360.880449</td>\n",
       "    </tr>\n",
       "    <tr>\n",
       "      <td>66</td>\n",
       "      <td>2020-04-25</td>\n",
       "      <td>189741.033268</td>\n",
       "    </tr>\n",
       "    <tr>\n",
       "      <td>67</td>\n",
       "      <td>2020-04-26</td>\n",
       "      <td>175362.172298</td>\n",
       "    </tr>\n",
       "    <tr>\n",
       "      <td>68</td>\n",
       "      <td>2020-04-27</td>\n",
       "      <td>161628.618621</td>\n",
       "    </tr>\n",
       "    <tr>\n",
       "      <td>69</td>\n",
       "      <td>2020-04-28</td>\n",
       "      <td>148210.907228</td>\n",
       "    </tr>\n",
       "    <tr>\n",
       "      <td>70</td>\n",
       "      <td>2020-04-29</td>\n",
       "      <td>134876.701359</td>\n",
       "    </tr>\n",
       "    <tr>\n",
       "      <td>71</td>\n",
       "      <td>2020-04-30</td>\n",
       "      <td>122130.797597</td>\n",
       "    </tr>\n",
       "    <tr>\n",
       "      <td>72</td>\n",
       "      <td>2020-05-01</td>\n",
       "      <td>110204.668431</td>\n",
       "    </tr>\n",
       "    <tr>\n",
       "      <td>73</td>\n",
       "      <td>2020-05-02</td>\n",
       "      <td>99148.427966</td>\n",
       "    </tr>\n",
       "    <tr>\n",
       "      <td>74</td>\n",
       "      <td>2020-05-03</td>\n",
       "      <td>89037.252954</td>\n",
       "    </tr>\n",
       "    <tr>\n",
       "      <td>75</td>\n",
       "      <td>2020-05-04</td>\n",
       "      <td>79751.363572</td>\n",
       "    </tr>\n",
       "    <tr>\n",
       "      <td>76</td>\n",
       "      <td>2020-05-05</td>\n",
       "      <td>71522.067051</td>\n",
       "    </tr>\n",
       "    <tr>\n",
       "      <td>77</td>\n",
       "      <td>2020-05-06</td>\n",
       "      <td>63777.903908</td>\n",
       "    </tr>\n",
       "    <tr>\n",
       "      <td>78</td>\n",
       "      <td>2020-05-07</td>\n",
       "      <td>56838.138665</td>\n",
       "    </tr>\n",
       "    <tr>\n",
       "      <td>79</td>\n",
       "      <td>2020-05-08</td>\n",
       "      <td>50659.055085</td>\n",
       "    </tr>\n",
       "    <tr>\n",
       "      <td>80</td>\n",
       "      <td>2020-05-09</td>\n",
       "      <td>45186.492725</td>\n",
       "    </tr>\n",
       "    <tr>\n",
       "      <td>81</td>\n",
       "      <td>2020-05-10</td>\n",
       "      <td>40364.349492</td>\n",
       "    </tr>\n",
       "    <tr>\n",
       "      <td>82</td>\n",
       "      <td>2020-05-11</td>\n",
       "      <td>36124.644747</td>\n",
       "    </tr>\n",
       "    <tr>\n",
       "      <td>83</td>\n",
       "      <td>2020-05-12</td>\n",
       "      <td>32422.393618</td>\n",
       "    </tr>\n",
       "    <tr>\n",
       "      <td>84</td>\n",
       "      <td>2020-05-13</td>\n",
       "      <td>29178.792708</td>\n",
       "    </tr>\n",
       "    <tr>\n",
       "      <td>85</td>\n",
       "      <td>2020-05-14</td>\n",
       "      <td>26348.496954</td>\n",
       "    </tr>\n",
       "    <tr>\n",
       "      <td>86</td>\n",
       "      <td>2020-05-15</td>\n",
       "      <td>23866.518366</td>\n",
       "    </tr>\n",
       "    <tr>\n",
       "      <td>87</td>\n",
       "      <td>2020-05-16</td>\n",
       "      <td>21691.982469</td>\n",
       "    </tr>\n",
       "    <tr>\n",
       "      <td>88</td>\n",
       "      <td>2020-05-17</td>\n",
       "      <td>19776.672775</td>\n",
       "    </tr>\n",
       "    <tr>\n",
       "      <td>89</td>\n",
       "      <td>2020-05-18</td>\n",
       "      <td>18091.413959</td>\n",
       "    </tr>\n",
       "    <tr>\n",
       "      <td>90</td>\n",
       "      <td>2020-05-19</td>\n",
       "      <td>16587.929382</td>\n",
       "    </tr>\n",
       "    <tr>\n",
       "      <td>91</td>\n",
       "      <td>2020-05-20</td>\n",
       "      <td>15245.985026</td>\n",
       "    </tr>\n",
       "    <tr>\n",
       "      <td>92</td>\n",
       "      <td>2020-05-21</td>\n",
       "      <td>14035.094227</td>\n",
       "    </tr>\n",
       "    <tr>\n",
       "      <td>93</td>\n",
       "      <td>2020-05-22</td>\n",
       "      <td>12938.721614</td>\n",
       "    </tr>\n",
       "    <tr>\n",
       "      <td>94</td>\n",
       "      <td>2020-05-23</td>\n",
       "      <td>11936.074442</td>\n",
       "    </tr>\n",
       "    <tr>\n",
       "      <td>95</td>\n",
       "      <td>2020-05-24</td>\n",
       "      <td>11006.459432</td>\n",
       "    </tr>\n",
       "    <tr>\n",
       "      <td>96</td>\n",
       "      <td>2020-05-25</td>\n",
       "      <td>10146.963495</td>\n",
       "    </tr>\n",
       "    <tr>\n",
       "      <td>97</td>\n",
       "      <td>2020-05-26</td>\n",
       "      <td>9341.461556</td>\n",
       "    </tr>\n",
       "    <tr>\n",
       "      <td>98</td>\n",
       "      <td>2020-05-27</td>\n",
       "      <td>8586.606138</td>\n",
       "    </tr>\n",
       "    <tr>\n",
       "      <td>99</td>\n",
       "      <td>2020-05-28</td>\n",
       "      <td>7876.520356</td>\n",
       "    </tr>\n",
       "  </tbody>\n",
       "</table>\n",
       "</div>"
      ],
      "text/plain": [
       "         date    allbed_mean\n",
       "50 2020-04-09  278047.094161\n",
       "51 2020-04-10  283285.083066\n",
       "52 2020-04-11  286242.998166\n",
       "53 2020-04-12  287638.386094\n",
       "54 2020-04-13  288537.403989\n",
       "55 2020-04-14  293961.921727\n",
       "56 2020-04-15  289404.989199\n",
       "57 2020-04-16  283260.557846\n",
       "58 2020-04-17  274905.182936\n",
       "59 2020-04-18  266657.454055\n",
       "60 2020-04-19  258563.032697\n",
       "61 2020-04-20  250333.286406\n",
       "62 2020-04-21  241787.631463\n",
       "63 2020-04-22  233250.185832\n",
       "64 2020-04-23  218926.040928\n",
       "65 2020-04-24  204360.880449\n",
       "66 2020-04-25  189741.033268\n",
       "67 2020-04-26  175362.172298\n",
       "68 2020-04-27  161628.618621\n",
       "69 2020-04-28  148210.907228\n",
       "70 2020-04-29  134876.701359\n",
       "71 2020-04-30  122130.797597\n",
       "72 2020-05-01  110204.668431\n",
       "73 2020-05-02   99148.427966\n",
       "74 2020-05-03   89037.252954\n",
       "75 2020-05-04   79751.363572\n",
       "76 2020-05-05   71522.067051\n",
       "77 2020-05-06   63777.903908\n",
       "78 2020-05-07   56838.138665\n",
       "79 2020-05-08   50659.055085\n",
       "80 2020-05-09   45186.492725\n",
       "81 2020-05-10   40364.349492\n",
       "82 2020-05-11   36124.644747\n",
       "83 2020-05-12   32422.393618\n",
       "84 2020-05-13   29178.792708\n",
       "85 2020-05-14   26348.496954\n",
       "86 2020-05-15   23866.518366\n",
       "87 2020-05-16   21691.982469\n",
       "88 2020-05-17   19776.672775\n",
       "89 2020-05-18   18091.413959\n",
       "90 2020-05-19   16587.929382\n",
       "91 2020-05-20   15245.985026\n",
       "92 2020-05-21   14035.094227\n",
       "93 2020-05-22   12938.721614\n",
       "94 2020-05-23   11936.074442\n",
       "95 2020-05-24   11006.459432\n",
       "96 2020-05-25   10146.963495\n",
       "97 2020-05-26    9341.461556\n",
       "98 2020-05-27    8586.606138\n",
       "99 2020-05-28    7876.520356"
      ]
     },
     "execution_count": 81,
     "metadata": {},
     "output_type": "execute_result"
    }
   ],
   "source": [
    "allBedData = allBedData.groupby(['date']).sum().reset_index()\n",
    "allBedData.iloc[50:100]"
   ]
  },
  {
   "cell_type": "code",
   "execution_count": 82,
   "metadata": {},
   "outputs": [
    {
     "data": {
      "text/plain": [
       "DatetimeIndex(['2020-02-19', '2020-02-20', '2020-02-21', '2020-02-22',\n",
       "               '2020-02-23', '2020-02-24', '2020-02-25', '2020-02-26',\n",
       "               '2020-02-27', '2020-02-28',\n",
       "               ...\n",
       "               '2020-07-03', '2020-07-04', '2020-07-05', '2020-07-06',\n",
       "               '2020-07-07', '2020-07-08', '2020-07-09', '2020-07-10',\n",
       "               '2020-07-11', '2020-07-12'],\n",
       "              dtype='datetime64[ns]', name='date', length=145, freq=None)"
      ]
     },
     "execution_count": 82,
     "metadata": {},
     "output_type": "execute_result"
    }
   ],
   "source": [
    "#setting index to date\n",
    "allBedData = allBedData.set_index('date')\n",
    "allBedData.index"
   ]
  },
  {
   "cell_type": "code",
   "execution_count": 83,
   "metadata": {},
   "outputs": [
    {
     "data": {
      "text/html": [
       "<div>\n",
       "<style scoped>\n",
       "    .dataframe tbody tr th:only-of-type {\n",
       "        vertical-align: middle;\n",
       "    }\n",
       "\n",
       "    .dataframe tbody tr th {\n",
       "        vertical-align: top;\n",
       "    }\n",
       "\n",
       "    .dataframe thead th {\n",
       "        text-align: right;\n",
       "    }\n",
       "</style>\n",
       "<table border=\"1\" class=\"dataframe\">\n",
       "  <thead>\n",
       "    <tr style=\"text-align: right;\">\n",
       "      <th></th>\n",
       "      <th>value</th>\n",
       "    </tr>\n",
       "    <tr>\n",
       "      <th>date</th>\n",
       "      <th></th>\n",
       "    </tr>\n",
       "  </thead>\n",
       "  <tbody>\n",
       "    <tr>\n",
       "      <td>2020-04-21</td>\n",
       "      <td>241787.631463</td>\n",
       "    </tr>\n",
       "    <tr>\n",
       "      <td>2020-04-22</td>\n",
       "      <td>233250.185832</td>\n",
       "    </tr>\n",
       "    <tr>\n",
       "      <td>2020-04-23</td>\n",
       "      <td>218926.040928</td>\n",
       "    </tr>\n",
       "    <tr>\n",
       "      <td>2020-04-24</td>\n",
       "      <td>204360.880449</td>\n",
       "    </tr>\n",
       "    <tr>\n",
       "      <td>2020-04-25</td>\n",
       "      <td>189741.033268</td>\n",
       "    </tr>\n",
       "  </tbody>\n",
       "</table>\n",
       "</div>"
      ],
      "text/plain": [
       "                    value\n",
       "date                     \n",
       "2020-04-21  241787.631463\n",
       "2020-04-22  233250.185832\n",
       "2020-04-23  218926.040928\n",
       "2020-04-24  204360.880449\n",
       "2020-04-25  189741.033268"
      ]
     },
     "execution_count": 83,
     "metadata": {},
     "output_type": "execute_result"
    }
   ],
   "source": [
    "# Keeping historical data till 25th April 2020\n",
    "allBedData = allBedData[allBedData.index <= '2020-04-25']\n",
    "allBedData.columns = ['value']\n",
    "allBedData.tail()"
   ]
  },
  {
   "cell_type": "markdown",
   "metadata": {},
   "source": [
    "### Missing value analysis"
   ]
  },
  {
   "cell_type": "markdown",
   "metadata": {},
   "source": [
    "We'll check if there's any missing value present in our data by applying isnull function on the dataset."
   ]
  },
  {
   "cell_type": "code",
   "execution_count": 84,
   "metadata": {},
   "outputs": [
    {
     "data": {
      "text/plain": [
       "value    False\n",
       "dtype: bool"
      ]
     },
     "execution_count": 84,
     "metadata": {},
     "output_type": "execute_result"
    }
   ],
   "source": [
    "allBedData.isnull().any()"
   ]
  },
  {
   "cell_type": "markdown",
   "metadata": {},
   "source": [
    "Since we get 'False' as the result, we can say that there are no missing values in the dataset."
   ]
  },
  {
   "cell_type": "markdown",
   "metadata": {},
   "source": [
    "### Detecting outliers"
   ]
  },
  {
   "cell_type": "markdown",
   "metadata": {},
   "source": [
    "First, let's follow graphical procedure to analyze if the data contains outliers or not. We'll use boxplot for this."
   ]
  },
  {
   "cell_type": "code",
   "execution_count": 85,
   "metadata": {},
   "outputs": [
    {
     "data": {
      "text/plain": [
       "<matplotlib.axes._subplots.AxesSubplot at 0x116c98ed0>"
      ]
     },
     "execution_count": 85,
     "metadata": {},
     "output_type": "execute_result"
    },
    {
     "data": {
      "image/png": "[encoded data removed]",
      "text/plain": [
       "<Figure size 432x288 with 1 Axes>"
      ]
     },
     "metadata": {
      "needs_background": "light"
     },
     "output_type": "display_data"
    }
   ],
   "source": [
    "import seaborn as sns\n",
    "sns.boxplot(x=allBedData['value'])"
   ]
  },
  {
   "cell_type": "markdown",
   "metadata": {},
   "source": [
    "The boxplot shows that there are no outliers in the data, as there's no point which is lying outside of whiskers. Let's now see this via z-scores."
   ]
  },
  {
   "cell_type": "code",
   "execution_count": 87,
   "metadata": {},
   "outputs": [
    {
     "name": "stdout",
     "output_type": "stream",
     "text": [
      "[[1.157939  ]\n",
      " [1.15771702]\n",
      " [1.15743489]\n",
      " [1.15694947]\n",
      " [1.15652043]\n",
      " [1.15587875]\n",
      " [1.15524785]\n",
      " [1.15407469]\n",
      " [1.15204149]\n",
      " [1.14982989]\n",
      " [1.1466567 ]\n",
      " [1.14252451]\n",
      " [1.1404219 ]\n",
      " [1.13042417]\n",
      " [1.1231647 ]\n",
      " [1.11028206]\n",
      " [1.09677676]\n",
      " [1.08136358]\n",
      " [1.06320017]\n",
      " [1.04934059]\n",
      " [1.01795815]\n",
      " [0.98174566]\n",
      " [0.95382254]\n",
      " [0.91239578]\n",
      " [0.8668554 ]\n",
      " [0.79963837]\n",
      " [0.71539518]\n",
      " [0.64741585]\n",
      " [0.57574412]\n",
      " [0.46969296]\n",
      " [0.37096064]\n",
      " [0.27389128]\n",
      " [0.15496546]\n",
      " [0.04546864]\n",
      " [0.04848085]\n",
      " [0.15215852]\n",
      " [0.28263732]\n",
      " [0.41328612]\n",
      " [0.54839297]\n",
      " [0.6474119 ]\n",
      " [0.73549596]\n",
      " [0.80412358]\n",
      " [0.85937781]\n",
      " [0.97035899]\n",
      " [1.04937028]\n",
      " [1.11024012]\n",
      " [1.17263708]\n",
      " [1.23651378]\n",
      " [1.24831503]\n",
      " [1.24797622]\n",
      " [1.26427254]\n",
      " [1.30991273]\n",
      " [1.33568594]\n",
      " [1.34784438]\n",
      " [1.3556778 ]\n",
      " [1.40294327]\n",
      " [1.36323733]\n",
      " [1.30969903]\n",
      " [1.23689611]\n",
      " [1.16503114]\n",
      " [1.09450198]\n",
      " [1.0227937 ]\n",
      " [0.94833281]\n",
      " [0.87394345]\n",
      " [0.74913281]\n",
      " [0.62222214]\n",
      " [0.49483496]]\n"
     ]
    }
   ],
   "source": [
    "from scipy import stats\n",
    "z = np.abs(stats.zscore(allBedData))\n",
    "print(z)"
   ]
  },
  {
   "cell_type": "markdown",
   "metadata": {},
   "source": [
    "As can be seen from above array, every value has z-score less than +3 or greater than -3. Thus, no outliers are present in the data."
   ]
  }
 ],
 "metadata": {
  "kernelspec": {
   "display_name": "Python 3",
   "language": "python",
   "name": "python3"
  },
  "language_info": {
   "codemirror_mode": {
    "name": "ipython",
    "version": 3
   },
   "file_extension": ".py",
   "mimetype": "text/x-python",
   "name": "python",
   "nbconvert_exporter": "python",
   "pygments_lexer": "ipython3",
   "version": "3.7.4"
  }
 },
 "nbformat": 4,
 "nbformat_minor": 2
}
