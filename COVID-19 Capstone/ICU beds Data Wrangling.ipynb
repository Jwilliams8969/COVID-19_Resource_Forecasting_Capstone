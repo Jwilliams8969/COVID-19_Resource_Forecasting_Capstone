{
 "cells": [
  {
   "cell_type": "markdown",
   "metadata": {},
   "source": [
    "# ICU Beds"
   ]
  },
  {
   "cell_type": "code",
   "execution_count": 49,
   "metadata": {},
   "outputs": [],
   "source": [
    "# Importing the libraries\n",
    "import numpy as np\n",
    "import pandas as pd\n",
    "import warnings\n",
    "warnings.filterwarnings(\"ignore\")"
   ]
  },
  {
   "cell_type": "code",
   "execution_count": 50,
   "metadata": {},
   "outputs": [
    {
     "name": "stdout",
     "output_type": "stream",
     "text": [
      "   V1 location_name        date  allbed_mean  allbed_lower  allbed_upper  \\\n",
      "0   1       Abruzzo  2020-01-03          0.0           0.0           0.0   \n",
      "1   2       Abruzzo  2020-01-04          0.0           0.0           0.0   \n",
      "2   3       Abruzzo  2020-01-05          0.0           0.0           0.0   \n",
      "3   4       Abruzzo  2020-01-06          0.0           0.0           0.0   \n",
      "4   5       Abruzzo  2020-01-07          0.0           0.0           0.0   \n",
      "\n",
      "   ICUbed_mean  ICUbed_lower  ICUbed_upper  InvVen_mean  ...  newICU_upper  \\\n",
      "0          0.0           0.0           0.0          0.0  ...           0.0   \n",
      "1          0.0           0.0           0.0          0.0  ...           0.0   \n",
      "2          0.0           0.0           0.0          0.0  ...           0.0   \n",
      "3          0.0           0.0           0.0          0.0  ...           0.0   \n",
      "4          0.0           0.0           0.0          0.0  ...           0.0   \n",
      "\n",
      "   totdea_mean  totdea_lower  totdea_upper  bedover_mean  bedover_lower  \\\n",
      "0          0.0           0.0           0.0           0.0            0.0   \n",
      "1          0.0           0.0           0.0           0.0            0.0   \n",
      "2          0.0           0.0           0.0           0.0            0.0   \n",
      "3          0.0           0.0           0.0           0.0            0.0   \n",
      "4          0.0           0.0           0.0           0.0            0.0   \n",
      "\n",
      "   bedover_upper  icuover_mean  icuover_lower  icuover_upper  \n",
      "0            0.0           0.0            0.0            0.0  \n",
      "1            0.0           0.0            0.0            0.0  \n",
      "2            0.0           0.0            0.0            0.0  \n",
      "3            0.0           0.0            0.0            0.0  \n",
      "4            0.0           0.0            0.0            0.0  \n",
      "\n",
      "[5 rows x 30 columns]\n",
      "\n",
      " Data Types:\n",
      "V1                 int64\n",
      "location_name     object\n",
      "date              object\n",
      "allbed_mean      float64\n",
      "allbed_lower     float64\n",
      "allbed_upper     float64\n",
      "ICUbed_mean      float64\n",
      "ICUbed_lower     float64\n",
      "ICUbed_upper     float64\n",
      "InvVen_mean      float64\n",
      "InvVen_lower     float64\n",
      "InvVen_upper     float64\n",
      "deaths_mean      float64\n",
      "deaths_lower     float64\n",
      "deaths_upper     float64\n",
      "admis_mean       float64\n",
      "admis_lower      float64\n",
      "admis_upper      float64\n",
      "newICU_mean      float64\n",
      "newICU_lower     float64\n",
      "newICU_upper     float64\n",
      "totdea_mean      float64\n",
      "totdea_lower     float64\n",
      "totdea_upper     float64\n",
      "bedover_mean     float64\n",
      "bedover_lower    float64\n",
      "bedover_upper    float64\n",
      "icuover_mean     float64\n",
      "icuover_lower    float64\n",
      "icuover_upper    float64\n",
      "dtype: object\n"
     ]
    }
   ],
   "source": [
    "# Loading data\n",
    "data = pd.read_csv('Hospitalization_all_locs.csv')\n",
    "\n",
    "# Printing first five rows and data type of each column\n",
    "print (data.head())\n",
    "print ('\\n Data Types:')\n",
    "print (data.dtypes)"
   ]
  },
  {
   "cell_type": "markdown",
   "metadata": {},
   "source": [
    "# Data pre-processing"
   ]
  },
  {
   "cell_type": "markdown",
   "metadata": {},
   "source": [
    "* We're grouping by date and applying sum because we have data on states and all the mean points corresponding to states add up to resemble those for countries.\n",
    "* We're also eliminating all those rows which have zeroes in mean, lower bound and upper bound columns"
   ]
  },
  {
   "cell_type": "code",
   "execution_count": 51,
   "metadata": {},
   "outputs": [],
   "source": [
    "data = data[['date', 'ICUbed_mean',  'ICUbed_lower',  'ICUbed_upper']] .groupby(['date']).sum().reset_index()\n",
    "data = data[(data['ICUbed_mean']!=0) & (data['ICUbed_lower']!=0) & (data['ICUbed_upper']!=0)]"
   ]
  },
  {
   "cell_type": "code",
   "execution_count": 52,
   "metadata": {},
   "outputs": [
    {
     "data": {
      "text/html": [
       "<div>\n",
       "<style scoped>\n",
       "    .dataframe tbody tr th:only-of-type {\n",
       "        vertical-align: middle;\n",
       "    }\n",
       "\n",
       "    .dataframe tbody tr th {\n",
       "        vertical-align: top;\n",
       "    }\n",
       "\n",
       "    .dataframe thead th {\n",
       "        text-align: right;\n",
       "    }\n",
       "</style>\n",
       "<table border=\"1\" class=\"dataframe\">\n",
       "  <thead>\n",
       "    <tr style=\"text-align: right;\">\n",
       "      <th></th>\n",
       "      <th>date</th>\n",
       "      <th>ICUbed_mean</th>\n",
       "    </tr>\n",
       "  </thead>\n",
       "  <tbody>\n",
       "    <tr>\n",
       "      <td>47</td>\n",
       "      <td>2020-02-19</td>\n",
       "      <td>14.00000</td>\n",
       "    </tr>\n",
       "    <tr>\n",
       "      <td>48</td>\n",
       "      <td>2020-02-20</td>\n",
       "      <td>20.00000</td>\n",
       "    </tr>\n",
       "    <tr>\n",
       "      <td>49</td>\n",
       "      <td>2020-02-21</td>\n",
       "      <td>30.00000</td>\n",
       "    </tr>\n",
       "    <tr>\n",
       "      <td>50</td>\n",
       "      <td>2020-02-22</td>\n",
       "      <td>45.77687</td>\n",
       "    </tr>\n",
       "    <tr>\n",
       "      <td>51</td>\n",
       "      <td>2020-02-23</td>\n",
       "      <td>61.03587</td>\n",
       "    </tr>\n",
       "  </tbody>\n",
       "</table>\n",
       "</div>"
      ],
      "text/plain": [
       "          date  ICUbed_mean\n",
       "47  2020-02-19     14.00000\n",
       "48  2020-02-20     20.00000\n",
       "49  2020-02-21     30.00000\n",
       "50  2020-02-22     45.77687\n",
       "51  2020-02-23     61.03587"
      ]
     },
     "execution_count": 52,
     "metadata": {},
     "output_type": "execute_result"
    }
   ],
   "source": [
    "# Fetching only columns of interest\n",
    "ICUBedData = data[['date', 'ICUbed_mean']]\n",
    "ICUBedData.head()"
   ]
  },
  {
   "cell_type": "markdown",
   "metadata": {},
   "source": [
    "### Datetime conversion"
   ]
  },
  {
   "cell_type": "markdown",
   "metadata": {},
   "source": [
    "Since date column is having object data type, let's resolve that."
   ]
  },
  {
   "cell_type": "code",
   "execution_count": 53,
   "metadata": {},
   "outputs": [],
   "source": [
    "ICUBedData['date'] = pd.to_datetime(ICUBedData['date'])"
   ]
  },
  {
   "cell_type": "markdown",
   "metadata": {},
   "source": [
    "Now, since there are multiple values corresponding to one date because we removed location column from this data, we need to group these dates and find out the final ICU beds value corresponding to each date."
   ]
  },
  {
   "cell_type": "markdown",
   "metadata": {},
   "source": [
    "### Grouping the column by date"
   ]
  },
  {
   "cell_type": "code",
   "execution_count": 54,
   "metadata": {},
   "outputs": [
    {
     "data": {
      "text/html": [
       "<div>\n",
       "<style scoped>\n",
       "    .dataframe tbody tr th:only-of-type {\n",
       "        vertical-align: middle;\n",
       "    }\n",
       "\n",
       "    .dataframe tbody tr th {\n",
       "        vertical-align: top;\n",
       "    }\n",
       "\n",
       "    .dataframe thead th {\n",
       "        text-align: right;\n",
       "    }\n",
       "</style>\n",
       "<table border=\"1\" class=\"dataframe\">\n",
       "  <thead>\n",
       "    <tr style=\"text-align: right;\">\n",
       "      <th></th>\n",
       "      <th>date</th>\n",
       "      <th>ICUbed_mean</th>\n",
       "    </tr>\n",
       "  </thead>\n",
       "  <tbody>\n",
       "    <tr>\n",
       "      <td>0</td>\n",
       "      <td>2020-02-19</td>\n",
       "      <td>14.000000</td>\n",
       "    </tr>\n",
       "    <tr>\n",
       "      <td>1</td>\n",
       "      <td>2020-02-20</td>\n",
       "      <td>20.000000</td>\n",
       "    </tr>\n",
       "    <tr>\n",
       "      <td>2</td>\n",
       "      <td>2020-02-21</td>\n",
       "      <td>30.000000</td>\n",
       "    </tr>\n",
       "    <tr>\n",
       "      <td>3</td>\n",
       "      <td>2020-02-22</td>\n",
       "      <td>45.776870</td>\n",
       "    </tr>\n",
       "    <tr>\n",
       "      <td>4</td>\n",
       "      <td>2020-02-23</td>\n",
       "      <td>61.035870</td>\n",
       "    </tr>\n",
       "    <tr>\n",
       "      <td>5</td>\n",
       "      <td>2020-02-24</td>\n",
       "      <td>81.408440</td>\n",
       "    </tr>\n",
       "    <tr>\n",
       "      <td>6</td>\n",
       "      <td>2020-02-25</td>\n",
       "      <td>94.041940</td>\n",
       "    </tr>\n",
       "    <tr>\n",
       "      <td>7</td>\n",
       "      <td>2020-02-26</td>\n",
       "      <td>134.316057</td>\n",
       "    </tr>\n",
       "    <tr>\n",
       "      <td>8</td>\n",
       "      <td>2020-02-27</td>\n",
       "      <td>193.751774</td>\n",
       "    </tr>\n",
       "    <tr>\n",
       "      <td>9</td>\n",
       "      <td>2020-02-28</td>\n",
       "      <td>255.679074</td>\n",
       "    </tr>\n",
       "    <tr>\n",
       "      <td>10</td>\n",
       "      <td>2020-02-29</td>\n",
       "      <td>353.230757</td>\n",
       "    </tr>\n",
       "    <tr>\n",
       "      <td>11</td>\n",
       "      <td>2020-03-01</td>\n",
       "      <td>479.524162</td>\n",
       "    </tr>\n",
       "    <tr>\n",
       "      <td>12</td>\n",
       "      <td>2020-03-02</td>\n",
       "      <td>546.367612</td>\n",
       "    </tr>\n",
       "    <tr>\n",
       "      <td>13</td>\n",
       "      <td>2020-03-03</td>\n",
       "      <td>824.280937</td>\n",
       "    </tr>\n",
       "    <tr>\n",
       "      <td>14</td>\n",
       "      <td>2020-03-04</td>\n",
       "      <td>1028.973542</td>\n",
       "    </tr>\n",
       "    <tr>\n",
       "      <td>15</td>\n",
       "      <td>2020-03-05</td>\n",
       "      <td>1385.117905</td>\n",
       "    </tr>\n",
       "    <tr>\n",
       "      <td>16</td>\n",
       "      <td>2020-03-06</td>\n",
       "      <td>1780.737226</td>\n",
       "    </tr>\n",
       "    <tr>\n",
       "      <td>17</td>\n",
       "      <td>2020-03-07</td>\n",
       "      <td>2222.521757</td>\n",
       "    </tr>\n",
       "    <tr>\n",
       "      <td>18</td>\n",
       "      <td>2020-03-08</td>\n",
       "      <td>2834.827856</td>\n",
       "    </tr>\n",
       "    <tr>\n",
       "      <td>19</td>\n",
       "      <td>2020-03-09</td>\n",
       "      <td>3124.112871</td>\n",
       "    </tr>\n",
       "    <tr>\n",
       "      <td>20</td>\n",
       "      <td>2020-03-10</td>\n",
       "      <td>4109.787930</td>\n",
       "    </tr>\n",
       "    <tr>\n",
       "      <td>21</td>\n",
       "      <td>2020-03-11</td>\n",
       "      <td>5074.331532</td>\n",
       "    </tr>\n",
       "    <tr>\n",
       "      <td>22</td>\n",
       "      <td>2020-03-12</td>\n",
       "      <td>5886.782895</td>\n",
       "    </tr>\n",
       "    <tr>\n",
       "      <td>23</td>\n",
       "      <td>2020-03-13</td>\n",
       "      <td>7154.683359</td>\n",
       "    </tr>\n",
       "    <tr>\n",
       "      <td>24</td>\n",
       "      <td>2020-03-14</td>\n",
       "      <td>8528.421637</td>\n",
       "    </tr>\n",
       "    <tr>\n",
       "      <td>25</td>\n",
       "      <td>2020-03-15</td>\n",
       "      <td>10627.574123</td>\n",
       "    </tr>\n",
       "    <tr>\n",
       "      <td>26</td>\n",
       "      <td>2020-03-16</td>\n",
       "      <td>12718.923175</td>\n",
       "    </tr>\n",
       "    <tr>\n",
       "      <td>27</td>\n",
       "      <td>2020-03-17</td>\n",
       "      <td>14729.920525</td>\n",
       "    </tr>\n",
       "    <tr>\n",
       "      <td>28</td>\n",
       "      <td>2020-03-18</td>\n",
       "      <td>17142.830005</td>\n",
       "    </tr>\n",
       "    <tr>\n",
       "      <td>29</td>\n",
       "      <td>2020-03-19</td>\n",
       "      <td>20169.648002</td>\n",
       "    </tr>\n",
       "    <tr>\n",
       "      <td>30</td>\n",
       "      <td>2020-03-20</td>\n",
       "      <td>23176.485999</td>\n",
       "    </tr>\n",
       "    <tr>\n",
       "      <td>31</td>\n",
       "      <td>2020-03-21</td>\n",
       "      <td>25774.617092</td>\n",
       "    </tr>\n",
       "    <tr>\n",
       "      <td>32</td>\n",
       "      <td>2020-03-22</td>\n",
       "      <td>29181.419397</td>\n",
       "    </tr>\n",
       "    <tr>\n",
       "      <td>33</td>\n",
       "      <td>2020-03-23</td>\n",
       "      <td>32816.556106</td>\n",
       "    </tr>\n",
       "    <tr>\n",
       "      <td>34</td>\n",
       "      <td>2020-03-24</td>\n",
       "      <td>35873.153347</td>\n",
       "    </tr>\n",
       "    <tr>\n",
       "      <td>35</td>\n",
       "      <td>2020-03-25</td>\n",
       "      <td>38891.108155</td>\n",
       "    </tr>\n",
       "    <tr>\n",
       "      <td>36</td>\n",
       "      <td>2020-03-26</td>\n",
       "      <td>43090.111280</td>\n",
       "    </tr>\n",
       "    <tr>\n",
       "      <td>37</td>\n",
       "      <td>2020-03-27</td>\n",
       "      <td>47157.158766</td>\n",
       "    </tr>\n",
       "    <tr>\n",
       "      <td>38</td>\n",
       "      <td>2020-03-28</td>\n",
       "      <td>50663.496929</td>\n",
       "    </tr>\n",
       "    <tr>\n",
       "      <td>39</td>\n",
       "      <td>2020-03-29</td>\n",
       "      <td>54272.388127</td>\n",
       "    </tr>\n",
       "    <tr>\n",
       "      <td>40</td>\n",
       "      <td>2020-03-30</td>\n",
       "      <td>58013.270448</td>\n",
       "    </tr>\n",
       "    <tr>\n",
       "      <td>41</td>\n",
       "      <td>2020-03-31</td>\n",
       "      <td>60326.478147</td>\n",
       "    </tr>\n",
       "    <tr>\n",
       "      <td>42</td>\n",
       "      <td>2020-04-01</td>\n",
       "      <td>61587.824429</td>\n",
       "    </tr>\n",
       "    <tr>\n",
       "      <td>43</td>\n",
       "      <td>2020-04-02</td>\n",
       "      <td>65159.911388</td>\n",
       "    </tr>\n",
       "    <tr>\n",
       "      <td>44</td>\n",
       "      <td>2020-04-03</td>\n",
       "      <td>67476.189060</td>\n",
       "    </tr>\n",
       "    <tr>\n",
       "      <td>45</td>\n",
       "      <td>2020-04-04</td>\n",
       "      <td>69625.986156</td>\n",
       "    </tr>\n",
       "    <tr>\n",
       "      <td>46</td>\n",
       "      <td>2020-04-05</td>\n",
       "      <td>72286.458541</td>\n",
       "    </tr>\n",
       "    <tr>\n",
       "      <td>47</td>\n",
       "      <td>2020-04-06</td>\n",
       "      <td>75288.765016</td>\n",
       "    </tr>\n",
       "    <tr>\n",
       "      <td>48</td>\n",
       "      <td>2020-04-07</td>\n",
       "      <td>75994.592929</td>\n",
       "    </tr>\n",
       "    <tr>\n",
       "      <td>49</td>\n",
       "      <td>2020-04-08</td>\n",
       "      <td>74635.388886</td>\n",
       "    </tr>\n",
       "  </tbody>\n",
       "</table>\n",
       "</div>"
      ],
      "text/plain": [
       "         date   ICUbed_mean\n",
       "0  2020-02-19     14.000000\n",
       "1  2020-02-20     20.000000\n",
       "2  2020-02-21     30.000000\n",
       "3  2020-02-22     45.776870\n",
       "4  2020-02-23     61.035870\n",
       "5  2020-02-24     81.408440\n",
       "6  2020-02-25     94.041940\n",
       "7  2020-02-26    134.316057\n",
       "8  2020-02-27    193.751774\n",
       "9  2020-02-28    255.679074\n",
       "10 2020-02-29    353.230757\n",
       "11 2020-03-01    479.524162\n",
       "12 2020-03-02    546.367612\n",
       "13 2020-03-03    824.280937\n",
       "14 2020-03-04   1028.973542\n",
       "15 2020-03-05   1385.117905\n",
       "16 2020-03-06   1780.737226\n",
       "17 2020-03-07   2222.521757\n",
       "18 2020-03-08   2834.827856\n",
       "19 2020-03-09   3124.112871\n",
       "20 2020-03-10   4109.787930\n",
       "21 2020-03-11   5074.331532\n",
       "22 2020-03-12   5886.782895\n",
       "23 2020-03-13   7154.683359\n",
       "24 2020-03-14   8528.421637\n",
       "25 2020-03-15  10627.574123\n",
       "26 2020-03-16  12718.923175\n",
       "27 2020-03-17  14729.920525\n",
       "28 2020-03-18  17142.830005\n",
       "29 2020-03-19  20169.648002\n",
       "30 2020-03-20  23176.485999\n",
       "31 2020-03-21  25774.617092\n",
       "32 2020-03-22  29181.419397\n",
       "33 2020-03-23  32816.556106\n",
       "34 2020-03-24  35873.153347\n",
       "35 2020-03-25  38891.108155\n",
       "36 2020-03-26  43090.111280\n",
       "37 2020-03-27  47157.158766\n",
       "38 2020-03-28  50663.496929\n",
       "39 2020-03-29  54272.388127\n",
       "40 2020-03-30  58013.270448\n",
       "41 2020-03-31  60326.478147\n",
       "42 2020-04-01  61587.824429\n",
       "43 2020-04-02  65159.911388\n",
       "44 2020-04-03  67476.189060\n",
       "45 2020-04-04  69625.986156\n",
       "46 2020-04-05  72286.458541\n",
       "47 2020-04-06  75288.765016\n",
       "48 2020-04-07  75994.592929\n",
       "49 2020-04-08  74635.388886"
      ]
     },
     "execution_count": 54,
     "metadata": {},
     "output_type": "execute_result"
    }
   ],
   "source": [
    "ICUBedData = ICUBedData.groupby(['date']).sum().reset_index()\n",
    "ICUBedData.iloc[0:50]"
   ]
  },
  {
   "cell_type": "code",
   "execution_count": 55,
   "metadata": {},
   "outputs": [
    {
     "data": {
      "text/plain": [
       "DatetimeIndex(['2020-02-19', '2020-02-20', '2020-02-21', '2020-02-22',\n",
       "               '2020-02-23', '2020-02-24', '2020-02-25', '2020-02-26',\n",
       "               '2020-02-27', '2020-02-28',\n",
       "               ...\n",
       "               '2020-06-29', '2020-06-30', '2020-07-01', '2020-07-02',\n",
       "               '2020-07-03', '2020-07-04', '2020-07-05', '2020-07-06',\n",
       "               '2020-07-07', '2020-07-08'],\n",
       "              dtype='datetime64[ns]', name='date', length=141, freq=None)"
      ]
     },
     "execution_count": 55,
     "metadata": {},
     "output_type": "execute_result"
    }
   ],
   "source": [
    "#setting index to date\n",
    "ICUBedData = ICUBedData.set_index('date')\n",
    "ICUBedData.index"
   ]
  },
  {
   "cell_type": "code",
   "execution_count": 56,
   "metadata": {},
   "outputs": [],
   "source": [
    "# importing datetime to fetch today's date\n",
    "from datetime import datetime\n",
    "today = datetime.now()\n",
    "today = today.strftime(\"%Y-%m-%d\")"
   ]
  },
  {
   "cell_type": "code",
   "execution_count": 57,
   "metadata": {},
   "outputs": [
    {
     "data": {
      "text/html": [
       "<div>\n",
       "<style scoped>\n",
       "    .dataframe tbody tr th:only-of-type {\n",
       "        vertical-align: middle;\n",
       "    }\n",
       "\n",
       "    .dataframe tbody tr th {\n",
       "        vertical-align: top;\n",
       "    }\n",
       "\n",
       "    .dataframe thead th {\n",
       "        text-align: right;\n",
       "    }\n",
       "</style>\n",
       "<table border=\"1\" class=\"dataframe\">\n",
       "  <thead>\n",
       "    <tr style=\"text-align: right;\">\n",
       "      <th></th>\n",
       "      <th>value</th>\n",
       "    </tr>\n",
       "    <tr>\n",
       "      <th>date</th>\n",
       "      <th></th>\n",
       "    </tr>\n",
       "  </thead>\n",
       "  <tbody>\n",
       "    <tr>\n",
       "      <td>2020-04-21</td>\n",
       "      <td>67138.326723</td>\n",
       "    </tr>\n",
       "    <tr>\n",
       "      <td>2020-04-22</td>\n",
       "      <td>63875.741300</td>\n",
       "    </tr>\n",
       "    <tr>\n",
       "      <td>2020-04-23</td>\n",
       "      <td>60819.701543</td>\n",
       "    </tr>\n",
       "    <tr>\n",
       "      <td>2020-04-24</td>\n",
       "      <td>57532.913063</td>\n",
       "    </tr>\n",
       "    <tr>\n",
       "      <td>2020-04-25</td>\n",
       "      <td>53717.921474</td>\n",
       "    </tr>\n",
       "  </tbody>\n",
       "</table>\n",
       "</div>"
      ],
      "text/plain": [
       "                   value\n",
       "date                    \n",
       "2020-04-21  67138.326723\n",
       "2020-04-22  63875.741300\n",
       "2020-04-23  60819.701543\n",
       "2020-04-24  57532.913063\n",
       "2020-04-25  53717.921474"
      ]
     },
     "execution_count": 57,
     "metadata": {},
     "output_type": "execute_result"
    }
   ],
   "source": [
    "# Keeping historical data till today\n",
    "ICUBedData = ICUBedData[ICUBedData.index <= '2020-04-25']\n",
    "ICUBedData.columns = ['value']\n",
    "ICUBedData.tail()"
   ]
  },
  {
   "cell_type": "markdown",
   "metadata": {},
   "source": [
    "### Missing value analysis"
   ]
  },
  {
   "cell_type": "markdown",
   "metadata": {},
   "source": [
    "We'll check if there's any missing value present in our data by applying isnull function on the dataset."
   ]
  },
  {
   "cell_type": "code",
   "execution_count": 58,
   "metadata": {},
   "outputs": [
    {
     "data": {
      "text/plain": [
       "value    False\n",
       "dtype: bool"
      ]
     },
     "execution_count": 58,
     "metadata": {},
     "output_type": "execute_result"
    }
   ],
   "source": [
    "ICUBedData.isnull().any()"
   ]
  },
  {
   "cell_type": "markdown",
   "metadata": {},
   "source": [
    "Since, we get 'False' as the result, we can say that there are no missing values in the dataset."
   ]
  },
  {
   "cell_type": "markdown",
   "metadata": {},
   "source": [
    "### Detecting outliers"
   ]
  },
  {
   "cell_type": "markdown",
   "metadata": {},
   "source": [
    "First, let's follow graphical procedure to analyze if the data contains outliers or not. We'll use boxplot for this."
   ]
  },
  {
   "cell_type": "code",
   "execution_count": 59,
   "metadata": {},
   "outputs": [
    {
     "data": {
      "text/plain": [
       "<matplotlib.axes._subplots.AxesSubplot at 0x11bb83410>"
      ]
     },
     "execution_count": 59,
     "metadata": {},
     "output_type": "execute_result"
    },
    {
     "data": {
      "image/png": "[encoded data removed]",
      "text/plain": [
       "<Figure size 432x288 with 1 Axes>"
      ]
     },
     "metadata": {
      "needs_background": "light"
     },
     "output_type": "display_data"
    }
   ],
   "source": [
    "import seaborn as sns\n",
    "sns.boxplot(x=ICUBedData['value'])"
   ]
  },
  {
   "cell_type": "markdown",
   "metadata": {},
   "source": [
    "The boxplot shows there are no outliers in the data as there's no point which is lying outside of whiskers. Let's now see this via z-scores."
   ]
  },
  {
   "cell_type": "code",
   "execution_count": 61,
   "metadata": {},
   "outputs": [
    {
     "name": "stdout",
     "output_type": "stream",
     "text": [
      "[[1.14273732]\n",
      " [1.14254549]\n",
      " [1.14222577]\n",
      " [1.14172136]\n",
      " [1.1412335 ]\n",
      " [1.14058216]\n",
      " [1.14017824]\n",
      " [1.13889061]\n",
      " [1.13699035]\n",
      " [1.13501043]\n",
      " [1.13189154]\n",
      " [1.12785373]\n",
      " [1.12571663]\n",
      " [1.11683128]\n",
      " [1.11028691]\n",
      " [1.09890038]\n",
      " [1.08625176]\n",
      " [1.07212717]\n",
      " [1.05255072]\n",
      " [1.04330179]\n",
      " [1.0117881 ]\n",
      " [0.98095003]\n",
      " [0.95497459]\n",
      " [0.91443769]\n",
      " [0.87051697]\n",
      " [0.80340354]\n",
      " [0.7365396 ]\n",
      " [0.67224464]\n",
      " [0.59509987]\n",
      " [0.49832742]\n",
      " [0.40219376]\n",
      " [0.31912715]\n",
      " [0.21020596]\n",
      " [0.09398454]\n",
      " [0.00374001]\n",
      " [0.10022909]\n",
      " [0.23447827]\n",
      " [0.3645086 ]\n",
      " [0.47661212]\n",
      " [0.59199443]\n",
      " [0.71159672]\n",
      " [0.78555385]\n",
      " [0.82588121]\n",
      " [0.94008682]\n",
      " [1.01414211]\n",
      " [1.08287473]\n",
      " [1.1679345 ]\n",
      " [1.26392328]\n",
      " [1.28648978]\n",
      " [1.24303374]\n",
      " [1.28077254]\n",
      " [1.31776925]\n",
      " [1.33515862]\n",
      " [1.35683393]\n",
      " [1.39904127]\n",
      " [1.43230516]\n",
      " [1.3517199 ]\n",
      " [1.29617498]\n",
      " [1.24700913]\n",
      " [1.17395681]\n",
      " [1.1257161 ]\n",
      " [1.04788515]\n",
      " [1.00334008]\n",
      " [0.89902975]\n",
      " [0.80132303]\n",
      " [0.69623888]\n",
      " [0.5742672 ]]\n"
     ]
    }
   ],
   "source": [
    "from scipy import stats\n",
    "z = np.abs(stats.zscore(ICUBedData))\n",
    "print(z)"
   ]
  },
  {
   "cell_type": "markdown",
   "metadata": {},
   "source": [
    "As can be seen from above array, every value has z-score less than +3 or greater than -3. Thus, no outliers are present in the data."
   ]
  }
 ],
 "metadata": {
  "kernelspec": {
   "display_name": "Python 3",
   "language": "python",
   "name": "python3"
  },
  "language_info": {
   "codemirror_mode": {
    "name": "ipython",
    "version": 3
   },
   "file_extension": ".py",
   "mimetype": "text/x-python",
   "name": "python",
   "nbconvert_exporter": "python",
   "pygments_lexer": "ipython3",
   "version": "3.7.4"
  }
 },
 "nbformat": 4,
 "nbformat_minor": 2
}
