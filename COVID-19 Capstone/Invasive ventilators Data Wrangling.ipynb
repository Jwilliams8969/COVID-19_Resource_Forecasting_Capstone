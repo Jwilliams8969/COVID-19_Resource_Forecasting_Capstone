{
 "cells": [
  {
   "cell_type": "markdown",
   "metadata": {},
   "source": [
    "# Invasive Ventilators"
   ]
  },
  {
   "cell_type": "code",
   "execution_count": 13,
   "metadata": {},
   "outputs": [],
   "source": [
    "# Importing the libraries\n",
    "import numpy as np\n",
    "import pandas as pd\n",
    "import warnings\n",
    "warnings.filterwarnings(\"ignore\")"
   ]
  },
  {
   "cell_type": "code",
   "execution_count": 14,
   "metadata": {},
   "outputs": [
    {
     "name": "stdout",
     "output_type": "stream",
     "text": [
      "   V1 location_name        date  allbed_mean  allbed_lower  allbed_upper  \\\n",
      "0   1       Abruzzo  2020-01-03          0.0           0.0           0.0   \n",
      "1   2       Abruzzo  2020-01-04          0.0           0.0           0.0   \n",
      "2   3       Abruzzo  2020-01-05          0.0           0.0           0.0   \n",
      "3   4       Abruzzo  2020-01-06          0.0           0.0           0.0   \n",
      "4   5       Abruzzo  2020-01-07          0.0           0.0           0.0   \n",
      "\n",
      "   ICUbed_mean  ICUbed_lower  ICUbed_upper  InvVen_mean  ...  newICU_upper  \\\n",
      "0          0.0           0.0           0.0          0.0  ...           0.0   \n",
      "1          0.0           0.0           0.0          0.0  ...           0.0   \n",
      "2          0.0           0.0           0.0          0.0  ...           0.0   \n",
      "3          0.0           0.0           0.0          0.0  ...           0.0   \n",
      "4          0.0           0.0           0.0          0.0  ...           0.0   \n",
      "\n",
      "   totdea_mean  totdea_lower  totdea_upper  bedover_mean  bedover_lower  \\\n",
      "0          0.0           0.0           0.0           0.0            0.0   \n",
      "1          0.0           0.0           0.0           0.0            0.0   \n",
      "2          0.0           0.0           0.0           0.0            0.0   \n",
      "3          0.0           0.0           0.0           0.0            0.0   \n",
      "4          0.0           0.0           0.0           0.0            0.0   \n",
      "\n",
      "   bedover_upper  icuover_mean  icuover_lower  icuover_upper  \n",
      "0            0.0           0.0            0.0            0.0  \n",
      "1            0.0           0.0            0.0            0.0  \n",
      "2            0.0           0.0            0.0            0.0  \n",
      "3            0.0           0.0            0.0            0.0  \n",
      "4            0.0           0.0            0.0            0.0  \n",
      "\n",
      "[5 rows x 30 columns]\n",
      "\n",
      " Data Types:\n",
      "V1                 int64\n",
      "location_name     object\n",
      "date              object\n",
      "allbed_mean      float64\n",
      "allbed_lower     float64\n",
      "allbed_upper     float64\n",
      "ICUbed_mean      float64\n",
      "ICUbed_lower     float64\n",
      "ICUbed_upper     float64\n",
      "InvVen_mean      float64\n",
      "InvVen_lower     float64\n",
      "InvVen_upper     float64\n",
      "deaths_mean      float64\n",
      "deaths_lower     float64\n",
      "deaths_upper     float64\n",
      "admis_mean       float64\n",
      "admis_lower      float64\n",
      "admis_upper      float64\n",
      "newICU_mean      float64\n",
      "newICU_lower     float64\n",
      "newICU_upper     float64\n",
      "totdea_mean      float64\n",
      "totdea_lower     float64\n",
      "totdea_upper     float64\n",
      "bedover_mean     float64\n",
      "bedover_lower    float64\n",
      "bedover_upper    float64\n",
      "icuover_mean     float64\n",
      "icuover_lower    float64\n",
      "icuover_upper    float64\n",
      "dtype: object\n"
     ]
    }
   ],
   "source": [
    "# Loading data\n",
    "data = pd.read_csv('Hospitalization_all_locs.csv')\n",
    "\n",
    "\n",
    "# Printing first five rows and data type of each column\n",
    "print (data.head())\n",
    "print ('\\n Data Types:')\n",
    "print (data.dtypes)"
   ]
  },
  {
   "cell_type": "markdown",
   "metadata": {},
   "source": [
    "# Data Wrangling"
   ]
  },
  {
   "cell_type": "markdown",
   "metadata": {},
   "source": [
    "* We're grouping by date and applying sum because we have data on states, and all the mean points corresponding to states add up to resemble those for countries. \n",
    "* We're also eliminating all those rows which have zeroes in mean, lower bound and upper bound columns"
   ]
  },
  {
   "cell_type": "code",
   "execution_count": 15,
   "metadata": {},
   "outputs": [],
   "source": [
    "data = data[['date', 'InvVen_mean',  'InvVen_lower',  'InvVen_upper']].groupby(['date']).sum().reset_index()\n",
    "data = data[(data['InvVen_mean']!=0) & (data['InvVen_lower']!=0) & (data['InvVen_upper']!=0)]"
   ]
  },
  {
   "cell_type": "code",
   "execution_count": 16,
   "metadata": {},
   "outputs": [
    {
     "data": {
      "text/html": [
       "<div>\n",
       "<style scoped>\n",
       "    .dataframe tbody tr th:only-of-type {\n",
       "        vertical-align: middle;\n",
       "    }\n",
       "\n",
       "    .dataframe tbody tr th {\n",
       "        vertical-align: top;\n",
       "    }\n",
       "\n",
       "    .dataframe thead th {\n",
       "        text-align: right;\n",
       "    }\n",
       "</style>\n",
       "<table border=\"1\" class=\"dataframe\">\n",
       "  <thead>\n",
       "    <tr style=\"text-align: right;\">\n",
       "      <th></th>\n",
       "      <th>date</th>\n",
       "      <th>InvVen_mean</th>\n",
       "    </tr>\n",
       "  </thead>\n",
       "  <tbody>\n",
       "    <tr>\n",
       "      <td>47</td>\n",
       "      <td>2020-02-19</td>\n",
       "      <td>14.000000</td>\n",
       "    </tr>\n",
       "    <tr>\n",
       "      <td>48</td>\n",
       "      <td>2020-02-20</td>\n",
       "      <td>20.000000</td>\n",
       "    </tr>\n",
       "    <tr>\n",
       "      <td>49</td>\n",
       "      <td>2020-02-21</td>\n",
       "      <td>30.000000</td>\n",
       "    </tr>\n",
       "    <tr>\n",
       "      <td>50</td>\n",
       "      <td>2020-02-22</td>\n",
       "      <td>44.861562</td>\n",
       "    </tr>\n",
       "    <tr>\n",
       "      <td>51</td>\n",
       "      <td>2020-02-23</td>\n",
       "      <td>59.692562</td>\n",
       "    </tr>\n",
       "  </tbody>\n",
       "</table>\n",
       "</div>"
      ],
      "text/plain": [
       "          date  InvVen_mean\n",
       "47  2020-02-19    14.000000\n",
       "48  2020-02-20    20.000000\n",
       "49  2020-02-21    30.000000\n",
       "50  2020-02-22    44.861562\n",
       "51  2020-02-23    59.692562"
      ]
     },
     "execution_count": 16,
     "metadata": {},
     "output_type": "execute_result"
    }
   ],
   "source": [
    "# Fetching only columns of interest\n",
    "InvVenData = data[['date', 'InvVen_mean']]\n",
    "InvVenData.head()"
   ]
  },
  {
   "cell_type": "markdown",
   "metadata": {},
   "source": [
    "### Datetime conversion"
   ]
  },
  {
   "cell_type": "markdown",
   "metadata": {},
   "source": [
    "Since date column is having object data type, let's resolve that."
   ]
  },
  {
   "cell_type": "code",
   "execution_count": 17,
   "metadata": {},
   "outputs": [],
   "source": [
    "InvVenData['date'] = pd.to_datetime(InvVenData['date'])"
   ]
  },
  {
   "cell_type": "markdown",
   "metadata": {},
   "source": [
    "Now, since there are multiple values corresponding to one date because we removed location column from this data, we need to group these dates and find out the final invasive ventilators value corresponding to each date."
   ]
  },
  {
   "cell_type": "markdown",
   "metadata": {},
   "source": [
    "### Grouping the column by date"
   ]
  },
  {
   "cell_type": "code",
   "execution_count": 18,
   "metadata": {},
   "outputs": [
    {
     "data": {
      "text/html": [
       "<div>\n",
       "<style scoped>\n",
       "    .dataframe tbody tr th:only-of-type {\n",
       "        vertical-align: middle;\n",
       "    }\n",
       "\n",
       "    .dataframe tbody tr th {\n",
       "        vertical-align: top;\n",
       "    }\n",
       "\n",
       "    .dataframe thead th {\n",
       "        text-align: right;\n",
       "    }\n",
       "</style>\n",
       "<table border=\"1\" class=\"dataframe\">\n",
       "  <thead>\n",
       "    <tr style=\"text-align: right;\">\n",
       "      <th></th>\n",
       "      <th>date</th>\n",
       "      <th>InvVen_mean</th>\n",
       "    </tr>\n",
       "  </thead>\n",
       "  <tbody>\n",
       "    <tr>\n",
       "      <td>50</td>\n",
       "      <td>2020-04-09</td>\n",
       "      <td>68105.599678</td>\n",
       "    </tr>\n",
       "    <tr>\n",
       "      <td>51</td>\n",
       "      <td>2020-04-10</td>\n",
       "      <td>69163.305523</td>\n",
       "    </tr>\n",
       "    <tr>\n",
       "      <td>52</td>\n",
       "      <td>2020-04-11</td>\n",
       "      <td>69666.134408</td>\n",
       "    </tr>\n",
       "    <tr>\n",
       "      <td>53</td>\n",
       "      <td>2020-04-12</td>\n",
       "      <td>70152.357266</td>\n",
       "    </tr>\n",
       "    <tr>\n",
       "      <td>54</td>\n",
       "      <td>2020-04-13</td>\n",
       "      <td>71302.233448</td>\n",
       "    </tr>\n",
       "    <tr>\n",
       "      <td>55</td>\n",
       "      <td>2020-04-14</td>\n",
       "      <td>72196.852267</td>\n",
       "    </tr>\n",
       "    <tr>\n",
       "      <td>56</td>\n",
       "      <td>2020-04-15</td>\n",
       "      <td>69541.931331</td>\n",
       "    </tr>\n",
       "    <tr>\n",
       "      <td>57</td>\n",
       "      <td>2020-04-16</td>\n",
       "      <td>67684.815202</td>\n",
       "    </tr>\n",
       "    <tr>\n",
       "      <td>58</td>\n",
       "      <td>2020-04-17</td>\n",
       "      <td>66060.654885</td>\n",
       "    </tr>\n",
       "    <tr>\n",
       "      <td>59</td>\n",
       "      <td>2020-04-18</td>\n",
       "      <td>63972.719730</td>\n",
       "    </tr>\n",
       "    <tr>\n",
       "      <td>60</td>\n",
       "      <td>2020-04-19</td>\n",
       "      <td>62514.770767</td>\n",
       "    </tr>\n",
       "    <tr>\n",
       "      <td>61</td>\n",
       "      <td>2020-04-20</td>\n",
       "      <td>60163.049547</td>\n",
       "    </tr>\n",
       "    <tr>\n",
       "      <td>62</td>\n",
       "      <td>2020-04-21</td>\n",
       "      <td>58881.825251</td>\n",
       "    </tr>\n",
       "    <tr>\n",
       "      <td>63</td>\n",
       "      <td>2020-04-22</td>\n",
       "      <td>55737.753214</td>\n",
       "    </tr>\n",
       "    <tr>\n",
       "      <td>64</td>\n",
       "      <td>2020-04-23</td>\n",
       "      <td>52713.573389</td>\n",
       "    </tr>\n",
       "    <tr>\n",
       "      <td>65</td>\n",
       "      <td>2020-04-24</td>\n",
       "      <td>49541.685316</td>\n",
       "    </tr>\n",
       "    <tr>\n",
       "      <td>66</td>\n",
       "      <td>2020-04-25</td>\n",
       "      <td>46038.848421</td>\n",
       "    </tr>\n",
       "    <tr>\n",
       "      <td>67</td>\n",
       "      <td>2020-04-26</td>\n",
       "      <td>42505.428429</td>\n",
       "    </tr>\n",
       "    <tr>\n",
       "      <td>68</td>\n",
       "      <td>2020-04-27</td>\n",
       "      <td>39086.002634</td>\n",
       "    </tr>\n",
       "    <tr>\n",
       "      <td>69</td>\n",
       "      <td>2020-04-28</td>\n",
       "      <td>35795.574594</td>\n",
       "    </tr>\n",
       "    <tr>\n",
       "      <td>70</td>\n",
       "      <td>2020-04-29</td>\n",
       "      <td>32694.766178</td>\n",
       "    </tr>\n",
       "    <tr>\n",
       "      <td>71</td>\n",
       "      <td>2020-04-30</td>\n",
       "      <td>29719.719992</td>\n",
       "    </tr>\n",
       "    <tr>\n",
       "      <td>72</td>\n",
       "      <td>2020-05-01</td>\n",
       "      <td>27045.268066</td>\n",
       "    </tr>\n",
       "    <tr>\n",
       "      <td>73</td>\n",
       "      <td>2020-05-02</td>\n",
       "      <td>24324.237549</td>\n",
       "    </tr>\n",
       "    <tr>\n",
       "      <td>74</td>\n",
       "      <td>2020-05-03</td>\n",
       "      <td>21803.252578</td>\n",
       "    </tr>\n",
       "    <tr>\n",
       "      <td>75</td>\n",
       "      <td>2020-05-04</td>\n",
       "      <td>19488.528823</td>\n",
       "    </tr>\n",
       "    <tr>\n",
       "      <td>76</td>\n",
       "      <td>2020-05-05</td>\n",
       "      <td>17379.444047</td>\n",
       "    </tr>\n",
       "    <tr>\n",
       "      <td>77</td>\n",
       "      <td>2020-05-06</td>\n",
       "      <td>15472.768204</td>\n",
       "    </tr>\n",
       "    <tr>\n",
       "      <td>78</td>\n",
       "      <td>2020-05-07</td>\n",
       "      <td>13761.232039</td>\n",
       "    </tr>\n",
       "    <tr>\n",
       "      <td>79</td>\n",
       "      <td>2020-05-08</td>\n",
       "      <td>12234.168463</td>\n",
       "    </tr>\n",
       "    <tr>\n",
       "      <td>80</td>\n",
       "      <td>2020-05-09</td>\n",
       "      <td>10880.872075</td>\n",
       "    </tr>\n",
       "    <tr>\n",
       "      <td>81</td>\n",
       "      <td>2020-05-10</td>\n",
       "      <td>9686.678561</td>\n",
       "    </tr>\n",
       "    <tr>\n",
       "      <td>82</td>\n",
       "      <td>2020-05-11</td>\n",
       "      <td>8639.323726</td>\n",
       "    </tr>\n",
       "    <tr>\n",
       "      <td>83</td>\n",
       "      <td>2020-05-12</td>\n",
       "      <td>7723.147478</td>\n",
       "    </tr>\n",
       "    <tr>\n",
       "      <td>84</td>\n",
       "      <td>2020-05-13</td>\n",
       "      <td>6924.186222</td>\n",
       "    </tr>\n",
       "    <tr>\n",
       "      <td>85</td>\n",
       "      <td>2020-05-14</td>\n",
       "      <td>6229.717585</td>\n",
       "    </tr>\n",
       "    <tr>\n",
       "      <td>86</td>\n",
       "      <td>2020-05-15</td>\n",
       "      <td>5625.277200</td>\n",
       "    </tr>\n",
       "    <tr>\n",
       "      <td>87</td>\n",
       "      <td>2020-05-16</td>\n",
       "      <td>5097.645192</td>\n",
       "    </tr>\n",
       "    <tr>\n",
       "      <td>88</td>\n",
       "      <td>2020-05-17</td>\n",
       "      <td>4637.514884</td>\n",
       "    </tr>\n",
       "    <tr>\n",
       "      <td>89</td>\n",
       "      <td>2020-05-18</td>\n",
       "      <td>4233.698722</td>\n",
       "    </tr>\n",
       "    <tr>\n",
       "      <td>90</td>\n",
       "      <td>2020-05-19</td>\n",
       "      <td>3877.447105</td>\n",
       "    </tr>\n",
       "    <tr>\n",
       "      <td>91</td>\n",
       "      <td>2020-05-20</td>\n",
       "      <td>3561.636627</td>\n",
       "    </tr>\n",
       "    <tr>\n",
       "      <td>92</td>\n",
       "      <td>2020-05-21</td>\n",
       "      <td>3279.272455</td>\n",
       "    </tr>\n",
       "    <tr>\n",
       "      <td>93</td>\n",
       "      <td>2020-05-22</td>\n",
       "      <td>3024.578725</td>\n",
       "    </tr>\n",
       "    <tr>\n",
       "      <td>94</td>\n",
       "      <td>2020-05-23</td>\n",
       "      <td>2792.445973</td>\n",
       "    </tr>\n",
       "    <tr>\n",
       "      <td>95</td>\n",
       "      <td>2020-05-24</td>\n",
       "      <td>2579.242011</td>\n",
       "    </tr>\n",
       "    <tr>\n",
       "      <td>96</td>\n",
       "      <td>2020-05-25</td>\n",
       "      <td>2381.472035</td>\n",
       "    </tr>\n",
       "    <tr>\n",
       "      <td>97</td>\n",
       "      <td>2020-05-26</td>\n",
       "      <td>2196.698419</td>\n",
       "    </tr>\n",
       "    <tr>\n",
       "      <td>98</td>\n",
       "      <td>2020-05-27</td>\n",
       "      <td>2023.728374</td>\n",
       "    </tr>\n",
       "    <tr>\n",
       "      <td>99</td>\n",
       "      <td>2020-05-28</td>\n",
       "      <td>1860.851119</td>\n",
       "    </tr>\n",
       "  </tbody>\n",
       "</table>\n",
       "</div>"
      ],
      "text/plain": [
       "         date   InvVen_mean\n",
       "50 2020-04-09  68105.599678\n",
       "51 2020-04-10  69163.305523\n",
       "52 2020-04-11  69666.134408\n",
       "53 2020-04-12  70152.357266\n",
       "54 2020-04-13  71302.233448\n",
       "55 2020-04-14  72196.852267\n",
       "56 2020-04-15  69541.931331\n",
       "57 2020-04-16  67684.815202\n",
       "58 2020-04-17  66060.654885\n",
       "59 2020-04-18  63972.719730\n",
       "60 2020-04-19  62514.770767\n",
       "61 2020-04-20  60163.049547\n",
       "62 2020-04-21  58881.825251\n",
       "63 2020-04-22  55737.753214\n",
       "64 2020-04-23  52713.573389\n",
       "65 2020-04-24  49541.685316\n",
       "66 2020-04-25  46038.848421\n",
       "67 2020-04-26  42505.428429\n",
       "68 2020-04-27  39086.002634\n",
       "69 2020-04-28  35795.574594\n",
       "70 2020-04-29  32694.766178\n",
       "71 2020-04-30  29719.719992\n",
       "72 2020-05-01  27045.268066\n",
       "73 2020-05-02  24324.237549\n",
       "74 2020-05-03  21803.252578\n",
       "75 2020-05-04  19488.528823\n",
       "76 2020-05-05  17379.444047\n",
       "77 2020-05-06  15472.768204\n",
       "78 2020-05-07  13761.232039\n",
       "79 2020-05-08  12234.168463\n",
       "80 2020-05-09  10880.872075\n",
       "81 2020-05-10   9686.678561\n",
       "82 2020-05-11   8639.323726\n",
       "83 2020-05-12   7723.147478\n",
       "84 2020-05-13   6924.186222\n",
       "85 2020-05-14   6229.717585\n",
       "86 2020-05-15   5625.277200\n",
       "87 2020-05-16   5097.645192\n",
       "88 2020-05-17   4637.514884\n",
       "89 2020-05-18   4233.698722\n",
       "90 2020-05-19   3877.447105\n",
       "91 2020-05-20   3561.636627\n",
       "92 2020-05-21   3279.272455\n",
       "93 2020-05-22   3024.578725\n",
       "94 2020-05-23   2792.445973\n",
       "95 2020-05-24   2579.242011\n",
       "96 2020-05-25   2381.472035\n",
       "97 2020-05-26   2196.698419\n",
       "98 2020-05-27   2023.728374\n",
       "99 2020-05-28   1860.851119"
      ]
     },
     "execution_count": 18,
     "metadata": {},
     "output_type": "execute_result"
    }
   ],
   "source": [
    "InvVenData = InvVenData.groupby(['date']).sum().reset_index()\n",
    "InvVenData.iloc[50:100]"
   ]
  },
  {
   "cell_type": "code",
   "execution_count": 19,
   "metadata": {},
   "outputs": [
    {
     "data": {
      "text/plain": [
       "DatetimeIndex(['2020-02-19', '2020-02-20', '2020-02-21', '2020-02-22',\n",
       "               '2020-02-23', '2020-02-24', '2020-02-25', '2020-02-26',\n",
       "               '2020-02-27', '2020-02-28',\n",
       "               ...\n",
       "               '2020-06-29', '2020-06-30', '2020-07-01', '2020-07-02',\n",
       "               '2020-07-03', '2020-07-04', '2020-07-05', '2020-07-06',\n",
       "               '2020-07-07', '2020-07-08'],\n",
       "              dtype='datetime64[ns]', name='date', length=141, freq=None)"
      ]
     },
     "execution_count": 19,
     "metadata": {},
     "output_type": "execute_result"
    }
   ],
   "source": [
    "#setting index to date\n",
    "InvVenData = InvVenData.set_index('date')\n",
    "InvVenData.index"
   ]
  },
  {
   "cell_type": "code",
   "execution_count": 20,
   "metadata": {},
   "outputs": [
    {
     "data": {
      "text/html": [
       "<div>\n",
       "<style scoped>\n",
       "    .dataframe tbody tr th:only-of-type {\n",
       "        vertical-align: middle;\n",
       "    }\n",
       "\n",
       "    .dataframe tbody tr th {\n",
       "        vertical-align: top;\n",
       "    }\n",
       "\n",
       "    .dataframe thead th {\n",
       "        text-align: right;\n",
       "    }\n",
       "</style>\n",
       "<table border=\"1\" class=\"dataframe\">\n",
       "  <thead>\n",
       "    <tr style=\"text-align: right;\">\n",
       "      <th></th>\n",
       "      <th>value</th>\n",
       "    </tr>\n",
       "    <tr>\n",
       "      <th>date</th>\n",
       "      <th></th>\n",
       "    </tr>\n",
       "  </thead>\n",
       "  <tbody>\n",
       "    <tr>\n",
       "      <td>2020-04-21</td>\n",
       "      <td>58881.825251</td>\n",
       "    </tr>\n",
       "    <tr>\n",
       "      <td>2020-04-22</td>\n",
       "      <td>55737.753214</td>\n",
       "    </tr>\n",
       "    <tr>\n",
       "      <td>2020-04-23</td>\n",
       "      <td>52713.573389</td>\n",
       "    </tr>\n",
       "    <tr>\n",
       "      <td>2020-04-24</td>\n",
       "      <td>49541.685316</td>\n",
       "    </tr>\n",
       "    <tr>\n",
       "      <td>2020-04-25</td>\n",
       "      <td>46038.848421</td>\n",
       "    </tr>\n",
       "  </tbody>\n",
       "</table>\n",
       "</div>"
      ],
      "text/plain": [
       "                   value\n",
       "date                    \n",
       "2020-04-21  58881.825251\n",
       "2020-04-22  55737.753214\n",
       "2020-04-23  52713.573389\n",
       "2020-04-24  49541.685316\n",
       "2020-04-25  46038.848421"
      ]
     },
     "execution_count": 20,
     "metadata": {},
     "output_type": "execute_result"
    }
   ],
   "source": [
    "# Keeping historical data till 25th April 2020\n",
    "InvVenData = InvVenData[InvVenData.index <= '2020-04-25']\n",
    "InvVenData.columns = ['value']\n",
    "InvVenData.tail()"
   ]
  },
  {
   "cell_type": "markdown",
   "metadata": {},
   "source": [
    "### Missing value analysis"
   ]
  },
  {
   "cell_type": "markdown",
   "metadata": {},
   "source": [
    "We'll check is there's any missing value present in our data by applying isnull function on the dataset."
   ]
  },
  {
   "cell_type": "code",
   "execution_count": 21,
   "metadata": {},
   "outputs": [
    {
     "data": {
      "text/plain": [
       "value    False\n",
       "dtype: bool"
      ]
     },
     "execution_count": 21,
     "metadata": {},
     "output_type": "execute_result"
    }
   ],
   "source": [
    "InvVenData.isnull().any()"
   ]
  },
  {
   "cell_type": "markdown",
   "metadata": {},
   "source": [
    "Since, we get 'False' as the result, we can say that there are no missing values in the dataset."
   ]
  },
  {
   "cell_type": "markdown",
   "metadata": {},
   "source": [
    "### Detecting outliers"
   ]
  },
  {
   "cell_type": "markdown",
   "metadata": {},
   "source": [
    "Firstly, let's follow graphical procedure to analyze if the data contains outliers or not. We'll use boxplot for this."
   ]
  },
  {
   "cell_type": "code",
   "execution_count": 22,
   "metadata": {},
   "outputs": [
    {
     "data": {
      "text/plain": [
       "<matplotlib.axes._subplots.AxesSubplot at 0x121199090>"
      ]
     },
     "execution_count": 22,
     "metadata": {},
     "output_type": "execute_result"
    },
    {
     "data": {
      "image/png": "[encoded data removed]",
      "text/plain": [
       "<Figure size 432x288 with 1 Axes>"
      ]
     },
     "metadata": {
      "needs_background": "light"
     },
     "output_type": "display_data"
    }
   ],
   "source": [
    "import seaborn as sns\n",
    "sns.boxplot(x=InvVenData['value'])"
   ]
  },
  {
   "cell_type": "markdown",
   "metadata": {},
   "source": [
    "The boxplot shows that there are no outliers in the data, as there's no point which is lying outside of whiskers. Let's now see this via z-scores."
   ]
  },
  {
   "cell_type": "code",
   "execution_count": 24,
   "metadata": {},
   "outputs": [
    {
     "name": "stdout",
     "output_type": "stream",
     "text": [
      "[[1.15562923]\n",
      " [1.15541465]\n",
      " [1.15505701]\n",
      " [1.1545255 ]\n",
      " [1.15399509]\n",
      " [1.15328382]\n",
      " [1.15286536]\n",
      " [1.15145316]\n",
      " [1.14937112]\n",
      " [1.14720561]\n",
      " [1.14382303]\n",
      " [1.13946196]\n",
      " [1.13724241]\n",
      " [1.12754848]\n",
      " [1.12053607]\n",
      " [1.10799062]\n",
      " [1.09454819]\n",
      " [1.07934628]\n",
      " [1.05846631]\n",
      " [1.04920073]\n",
      " [1.01523392]\n",
      " [0.9822151 ]\n",
      " [0.95436997]\n",
      " [0.91176472]\n",
      " [0.86567168]\n",
      " [0.79336641]\n",
      " [0.7222842 ]\n",
      " [0.65451687]\n",
      " [0.5740568 ]\n",
      " [0.472479  ]\n",
      " [0.37184177]\n",
      " [0.28582847]\n",
      " [0.17327981]\n",
      " [0.05271718]\n",
      " [0.04674922]\n",
      " [0.14162189]\n",
      " [0.28002477]\n",
      " [0.41490943]\n",
      " [0.52790322]\n",
      " [0.64186304]\n",
      " [0.76069306]\n",
      " [0.82844243]\n",
      " [0.86041868]\n",
      " [0.97581595]\n",
      " [1.04814403]\n",
      " [1.11605383]\n",
      " [1.19583856]\n",
      " [1.29010804]\n",
      " [1.30518724]\n",
      " [1.24689325]\n",
      " [1.2795792 ]\n",
      " [1.31740669]\n",
      " [1.33538972]\n",
      " [1.35277885]\n",
      " [1.39390269]\n",
      " [1.42589759]\n",
      " [1.33094775]\n",
      " [1.26453039]\n",
      " [1.20644438]\n",
      " [1.13177207]\n",
      " [1.0796304 ]\n",
      " [0.99552412]\n",
      " [0.94970278]\n",
      " [0.83725909]\n",
      " [0.72910319]\n",
      " [0.6156647 ]\n",
      " [0.49039024]]\n"
     ]
    }
   ],
   "source": [
    "from scipy import stats\n",
    "z = np.abs(stats.zscore(InvVenData))\n",
    "print(z)"
   ]
  },
  {
   "cell_type": "markdown",
   "metadata": {},
   "source": [
    "As can be seen from above array, every value has z-score less than +3 or greater than -3. Thus, no outliers are present in the data."
   ]
  }
 ],
 "metadata": {
  "kernelspec": {
   "display_name": "Python 3",
   "language": "python",
   "name": "python3"
  },
  "language_info": {
   "codemirror_mode": {
    "name": "ipython",
    "version": 3
   },
   "file_extension": ".py",
   "mimetype": "text/x-python",
   "name": "python",
   "nbconvert_exporter": "python",
   "pygments_lexer": "ipython3",
   "version": "3.7.4"
  }
 },
 "nbformat": 4,
 "nbformat_minor": 2
}
